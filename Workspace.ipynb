{
 "cells": [
  {
   "cell_type": "code",
   "execution_count": 1,
   "id": "7360c279-2e1a-40fa-9f68-137f7967bcc7",
   "metadata": {},
   "outputs": [
    {
     "name": "stdout",
     "output_type": "stream",
     "text": [
      "New Python File\n",
      "These are changes made from GitHub Desktop\n"
     ]
    }
   ],
   "source": [
    "# Display The Output\n",
    "print('New Python File')\n",
    "# changes made on computer\n",
    "val = 'GitHub Desktop'\n",
    "print(f'These are changes made from {val}')\n"
   ]
  },
  {
   "cell_type": "code",
   "execution_count": 2,
   "id": "264de7c0-7794-4bc6-8eb7-c9dafc229251",
   "metadata": {},
   "outputs": [
    {
     "name": "stdout",
     "output_type": "stream",
     "text": [
      "In the last 12 months, in the country where you live, have you personally felt discriminated against or harassed because of being perceived as Lesbian?\n",
      "33\n",
      "In the last 12 months, in the country where you live, have you personally felt discriminated against or harassed because of being perceived as Gay?\n",
      "41\n",
      "In the last 12 months, in the country where you live, have you personally felt discriminated against or harassed because of being perceived as Bisexual?\n",
      "22\n",
      "In the last 12 months, in the country where you live, have you personally felt discriminated against or harassed because of being perceived as Transgender?\n",
      "50\n",
      "In the last 12 months, in the country where you live, have you personally felt discriminated against or harassed on the grounds of gender?\n",
      "38\n",
      "In the last 12 months, in the country where you live, have you personally felt discriminated against or harassed on the grounds of sexual orientation?\n",
      "46\n",
      "During the last 12 months, have you personally felt discriminated against because of being L, G, B or T when looking for a job? *\n",
      "30\n",
      "During the last 12 months, have you personally felt discriminated against because of being L, G, B or T at work?\n",
      "23\n",
      "During the last 12 months, have you personally felt discriminated against because of being L, G, B or T when looking for a house or apartment to rent or buy?\n",
      "17\n",
      "During the last 12 months, have you personally felt discriminated against because of being L, G, B or T by healthcare personnel (eg a receptionist, nurse or doctor)?\n",
      "19\n",
      "During the last 12 months, have you personally felt discriminated against because of being L, G, B or T by social service personnel?\n",
      "17\n",
      "During the last 12 months, have you personally felt discriminated against because of being L, G, B or T by school / university personnel?\n",
      "20\n",
      "During the last 12 months, have you personally felt discriminated against because of being L, G, B or T at a cafe, restaurant, bar or nightclub?\n",
      "19\n",
      "During the last 12 months, have you personally felt discriminated against because of being L, G, B or T at a shop?\n",
      "17\n",
      "During the last 12 months, have you personally felt discriminated against because of being L, G, B or T in a bank or insurance company (by bank or company personnel)?\n",
      "10\n",
      "During the last 12 months, have you personally felt discriminated against because of being L, G, B or T at a sport or fitness club?\n",
      "15\n",
      "During the last 12 months, have you personally felt discriminated against because of being L, G, B or T when showing your ID or any official document that identifies your sex?\n",
      "26\n",
      "Thinking about the most recent incident of discrimination, did you or anyone else report it anywhere?\n",
      "15\n",
      "During the last 12 months, have you personally felt discriminated against because of being L, G, B or T in any of the following situations? *\n",
      "46\n"
     ]
    }
   ],
   "source": [
    "import pandas as pd\n",
    "\n",
    "df = pd.read_csv ('Dis.csv')\n",
    "df = df[df.CountryCode == 'Average']\n",
    "df = df[df.answer == \"Yes\"]\n",
    "df = df[df.subset == \"Transgender\"]\n",
    "df.reset_index(drop=True, inplace=True)\n",
    "for i in range(len(df)):\n",
    "    print(df['question_label'][i]+'\\n'+ df['percentage'][i])"
   ]
  },
  {
   "cell_type": "code",
   "execution_count": null,
   "id": "050ad234-e881-4565-9330-68b9836e49f0",
   "metadata": {},
   "outputs": [],
   "source": []
  }
 ],
 "metadata": {
  "kernelspec": {
   "display_name": "Python 3 (ipykernel)",
   "language": "python",
   "name": "python3"
  },
  "language_info": {
   "codemirror_mode": {
    "name": "ipython",
    "version": 3
   },
   "file_extension": ".py",
   "mimetype": "text/x-python",
   "name": "python",
   "nbconvert_exporter": "python",
   "pygments_lexer": "ipython3",
   "version": "3.9.8"
  }
 },
 "nbformat": 4,
 "nbformat_minor": 5
}
